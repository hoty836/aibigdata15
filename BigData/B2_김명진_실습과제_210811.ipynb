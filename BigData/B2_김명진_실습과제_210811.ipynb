{
 "cells": [
  {
   "cell_type": "code",
   "execution_count": 1,
   "id": "de7786b0",
   "metadata": {},
   "outputs": [],
   "source": [
    "import numpy as np\n",
    "from scipy import stats\n",
    "import pandas as pd\n",
    "import statsmodels.api as sm\n",
    "import matplotlib.pyplot as plt\n",
    "import seaborn as sns\n",
    "from statsmodels.stats.proportion import proportions_ztest\n",
    "from scipy.stats import shapiro"
   ]
  },
  {
   "cell_type": "markdown",
   "id": "80d29030",
   "metadata": {},
   "source": [
    "# 실습 1 (p. 131)\n",
    "### 모집단 표준편차를 모르는 경우 평균 검정"
   ]
  },
  {
   "cell_type": "markdown",
   "id": "daec1f74",
   "metadata": {},
   "source": [
    "**1. 가설 수립 및 유의수준 설정**\n",
    "- 귀무가설 : 평균은 78.0이다.\n",
    "- 대립가설 : 평균은 78.0이 아니다.\n",
    "- 유의수준 = 0.05"
   ]
  },
  {
   "cell_type": "code",
   "execution_count": 2,
   "id": "77511b5a",
   "metadata": {},
   "outputs": [
    {
     "data": {
      "text/plain": [
       "ShapiroResult(statistic=0.8473217487335205, pvalue=0.0539751797914505)"
      ]
     },
     "execution_count": 2,
     "metadata": {},
     "output_type": "execute_result"
    }
   ],
   "source": [
    "# df 직접 입력\n",
    "df = pd.DataFrame({'sample': [85.0, 79.0, 79.1, 79.9, 81.6, 78.6, 85.4, 83.4, 78.1, 79.2]})\n",
    "\n",
    "# 정규성 검정\n",
    "shapiro(df)"
   ]
  },
  {
   "cell_type": "code",
   "execution_count": 3,
   "id": "5a2cab38",
   "metadata": {},
   "outputs": [
    {
     "name": "stdout",
     "output_type": "stream",
     "text": [
      "1 Sample t-test\n",
      "t 통계량 : [3.379], p-value : [0.008]\n"
     ]
    }
   ],
   "source": [
    "# 1 Sample t-test\n",
    "t_result = stats.ttest_1samp(df, 78.0)\n",
    "\n",
    "# 1 Sample t-test의 t, p값 저장\n",
    "t, p = t_result.statistic.round(3), t_result.pvalue.round(3)\n",
    "\n",
    "# 1 Sample t-test의 t, p값 출력\n",
    "print(\"1 Sample t-test\")\n",
    "print(\"t 통계량 : {}, p-value : {}\".format(t, p))"
   ]
  },
  {
   "cell_type": "markdown",
   "id": "4dbf8e07",
   "metadata": {},
   "source": [
    "**2. 가설 검정 수행**\n",
    "- 1 sample t-test 수행\n",
    "- 검정통계량 t는 3.397\n",
    "- p-value는 0.008"
   ]
  },
  {
   "cell_type": "code",
   "execution_count": 4,
   "id": "de6f6105",
   "metadata": {},
   "outputs": [
    {
     "data": {
      "text/plain": [
       "-2.262157162740992"
      ]
     },
     "execution_count": 4,
     "metadata": {},
     "output_type": "execute_result"
    }
   ],
   "source": [
    "# 임계치 계산\n",
    "prop = stats.t.ppf(0.025, 9)\n",
    "prop"
   ]
  },
  {
   "cell_type": "markdown",
   "id": "67ce9ece",
   "metadata": {},
   "source": [
    "**3. 검정 결과 판단**\n",
    "- p-value가 유의수준(0.05)보다 작으므로 귀무가설을 기각, 대립가설을 채택한다.\n",
    "- 고객 만족도 평균이 78.0이라고 할 수 없다. 따라서 개선활동을 완료한 후 고객만족도가 변화했다.\n",
    "- 검정통계량이 오른쪽 임계치(2.262)보다 크므로 만족도가 향상되었다고 볼 수 있다."
   ]
  },
  {
   "cell_type": "markdown",
   "id": "70fc437c",
   "metadata": {},
   "source": [
    "# 실습 2 (p. 139)\n",
    "### 2 Sample t-test"
   ]
  },
  {
   "cell_type": "markdown",
   "id": "31de8473",
   "metadata": {},
   "source": [
    "**1. 가설 수립 및 유의수준 설정**\n",
    "- 귀무가설 : 두 집단의 평균은 동일하다.\n",
    "- 대립가설 : 두 집단의 평균은 다르다.\n",
    "- 유의수준 = 0.05"
   ]
  },
  {
   "cell_type": "code",
   "execution_count": 5,
   "id": "eef9e236",
   "metadata": {},
   "outputs": [
    {
     "data": {
      "text/plain": [
       "ShapiroResult(statistic=0.8425756096839905, pvalue=0.08004552870988846)"
      ]
     },
     "execution_count": 5,
     "metadata": {},
     "output_type": "execute_result"
    }
   ],
   "source": [
    "# df 직접 입력\n",
    "df1 = pd.DataFrame({'A': [1.883, 1.715, 1.799, 1.768, 1.711, 1.832, 1.427, 1.344]})\n",
    "df2 = pd.DataFrame({'B': [1.435, 1.572, 1.486, 1.511, 1.457, 1.548, 1.404, 1.883]})\n",
    "\n",
    "# 정규성 검정\n",
    "shapiro(df1)"
   ]
  },
  {
   "cell_type": "code",
   "execution_count": 6,
   "id": "333a7fe8",
   "metadata": {
    "scrolled": true
   },
   "outputs": [
    {
     "data": {
      "text/plain": [
       "ShapiroResult(statistic=0.7734811902046204, pvalue=0.014793740585446358)"
      ]
     },
     "execution_count": 6,
     "metadata": {},
     "output_type": "execute_result"
    }
   ],
   "source": [
    "shapiro(df2)"
   ]
  },
  {
   "cell_type": "markdown",
   "id": "8fac6fc7",
   "metadata": {},
   "source": [
    "- df1의 p-value > 유의수준이기 때문에 df1은 정규성이 있다.\n",
    "- df2의 p-value < 유의수준이기 때문에 df2은 정규성이 없다.\n",
    "- df2가 정규분포를 따르지 않기 때문에 등분산성 검정 방식으로 **Levene's test**를 사용한다."
   ]
  },
  {
   "cell_type": "code",
   "execution_count": 8,
   "id": "d09db5b0",
   "metadata": {},
   "outputs": [
    {
     "data": {
      "text/plain": [
       "LeveneResult(statistic=0.4408416728536036, pvalue=0.5175025061092301)"
      ]
     },
     "execution_count": 8,
     "metadata": {},
     "output_type": "execute_result"
    }
   ],
   "source": [
    "# 등분산성 검정\n",
    "stats.levene(df1['A'],df2['B'])"
   ]
  },
  {
   "cell_type": "markdown",
   "id": "6d3119fb",
   "metadata": {},
   "source": [
    "- Levene's test 결과 p-value > 유의수준이므로 두 집단은 등분산이다."
   ]
  },
  {
   "cell_type": "code",
   "execution_count": 10,
   "id": "38c6e7af",
   "metadata": {},
   "outputs": [
    {
     "name": "stdout",
     "output_type": "stream",
     "text": [
      "2-Sample t-test \n",
      "t검정통계량: [1.7] \n",
      "p-value: [0.111] \n"
     ]
    }
   ],
   "source": [
    "# 2-Sample t-test\n",
    "t_result = stats.ttest_ind(df1, df2, equal_var = True) #등분산이므로 equal_var = True\n",
    "\n",
    "# 2-Sample t-test의 t, p값 저장\n",
    "t, p = t_result.statistic.round(3), t_result.pvalue.round(3)\n",
    "\n",
    "# 2-Sample t-test의 t, p값 출력\n",
    "print( \"2-Sample t-test \")\n",
    "print( \"t검정통계량: {} \" .format(t))\n",
    "print( \"p-value: {} \" .format(p))"
   ]
  },
  {
   "cell_type": "markdown",
   "id": "aa7fd1ca",
   "metadata": {},
   "source": [
    "**2. 가설 검정 수행**\n",
    "- 2 sample t-test 수행\n",
    "- 검정통계량 t는 1.7\n",
    "- p-value는 0.111"
   ]
  },
  {
   "cell_type": "markdown",
   "id": "1ad82130",
   "metadata": {},
   "source": [
    "**3. 검정 결과 판단**\n",
    "- p-value가 유의수준(0.05)보다 크므로 귀무가설을 채택한다.\n",
    "- 두 공급자 간의 제품 두께 평균은 동일하다고 볼 수 있다. 따라서 모평균에 차이가 없다고 할 수 있다."
   ]
  },
  {
   "cell_type": "markdown",
   "id": "0fa63e46",
   "metadata": {},
   "source": [
    "# 실습 3 (p.142)\n",
    "### Paired t-test"
   ]
  },
  {
   "cell_type": "markdown",
   "id": "8f46f89d",
   "metadata": {},
   "source": [
    "**1. 가설 수립 및 유의수준 설정**\n",
    "- 귀무가설 : 전/후(두 집단)의 평균 차이가 없다. \n",
    "- 대립가설 : 전/후(두 집단)의 평균 차이가 있다.\n",
    "- 유의수준 = 0.05"
   ]
  },
  {
   "cell_type": "code",
   "execution_count": 23,
   "id": "033d3742",
   "metadata": {},
   "outputs": [],
   "source": [
    "# df1, df2 직접 입력\n",
    "df1 = pd.DataFrame({'before': [720, 589, 780, 648, 720, 589, 780, 648, 780, 648]})\n",
    "df2 = pd.DataFrame({'after': [710, 580, 787, 712, 750, 600, 782, 670, 790, 680]})\n",
    "\n",
    "# Paired t-test 시행\n",
    "t_result = stats.ttest_rel(df1, df2)\n",
    "\n",
    "# Paired t-test의 t, p값 저장\n",
    "t, p = t_result.statistic.round(4), t_result.pvalue.round(4)"
   ]
  },
  {
   "cell_type": "markdown",
   "id": "00fc9c8f",
   "metadata": {},
   "source": [
    "- round(3)으로 설정했더니 p-value가 0.05(유의수준과 동일)가 나왔다. 그래서 좀 더 세세한 구분을 위해 round(4)로 수정하였다."
   ]
  },
  {
   "cell_type": "code",
   "execution_count": 21,
   "id": "0e05e749",
   "metadata": {},
   "outputs": [
    {
     "name": "stdout",
     "output_type": "stream",
     "text": [
      "Paired t-test \n",
      "t검정통계량: [-2.2661] \n",
      "p-value: [0.0497] \n"
     ]
    }
   ],
   "source": [
    "print( \"Paired t-test \")\n",
    "print( \"t검정통계량: {} \" .format(t))\n",
    "print( \"p-value: {} \" .format(p))"
   ]
  },
  {
   "cell_type": "markdown",
   "id": "9260d6dc",
   "metadata": {},
   "source": [
    "**2. 가설 검정 수행**\n",
    "- Paired t-test 수행\n",
    "- 검정통계량 t는 -2.2661\n",
    "- p-value는 0.0497"
   ]
  },
  {
   "cell_type": "markdown",
   "id": "6ca3821e",
   "metadata": {},
   "source": [
    "**3. 검정 결과 판단**\n",
    "- p-value가 유의수준(0.05)보다 작으므로 귀무가설을 기각, 대립가설을 채택한다.\n",
    "- 회사원들의 성적은 학원 가기 전후에 대해 차이가 있다고 할 수 있다.\n",
    "- 차이(before데이터 - after데이터)가 음수이므로 after가 크다. 따라서 학원 수강 후 점수가 향상되었다고 볼 수 있다."
   ]
  },
  {
   "cell_type": "markdown",
   "id": "e16b9ab5",
   "metadata": {},
   "source": [
    "# 실습 4 (p.148)\n",
    "### 1 Proportion test"
   ]
  },
  {
   "cell_type": "markdown",
   "id": "0d9821c0",
   "metadata": {},
   "source": [
    "**1. 가설 수립 및 유의수준 설정**\n",
    "- 귀무가설 : 확률(p)은 0.5이다. \n",
    "- 대립가설 : 확률(p)은 0.5가 아니다. \n",
    "- 유의수준 : 0.05\n",
    "- p = 0.4"
   ]
  },
  {
   "cell_type": "code",
   "execution_count": 24,
   "id": "69746637",
   "metadata": {},
   "outputs": [],
   "source": [
    "# 변수 선언\n",
    "count = 40\n",
    "n_obs = 100\n",
    "value = 0.5\n",
    "\n",
    "# Proportion test 실행\n",
    "stat, pval = proportions_ztest(count, n_obs, value)"
   ]
  },
  {
   "cell_type": "code",
   "execution_count": 25,
   "id": "f6244a39",
   "metadata": {},
   "outputs": [
    {
     "name": "stdout",
     "output_type": "stream",
     "text": [
      "1 Proportion test\n",
      "z:-2.041\n",
      "p:0.041\n"
     ]
    }
   ],
   "source": [
    "# Proportion test 결과 출력\n",
    "print(\"1 Proportion test\")\n",
    "print(\"z:{0:0.3f}\".format(stat))\n",
    "print(\"p:{0:0.3f}\".format(pval))"
   ]
  },
  {
   "cell_type": "markdown",
   "id": "6710b51b",
   "metadata": {},
   "source": [
    "**2. 가설 검정 수행**\n",
    "- 1 Proportion test 수행\n",
    "- 검정통계량 z는 -2.041\n",
    "- p-value는 0.041"
   ]
  },
  {
   "cell_type": "markdown",
   "id": "86dca021",
   "metadata": {},
   "source": [
    "**3. 검정 결과 판단**\n",
    "- p-value가 유의수준(0.05)보다 작으므로 귀무가설을 기각, 대립가설을 채택한다.\n",
    "- p는 0.5가 아니라는 것은 즉 이 동전이 정상적인 동전이 아니라고 판단할 수 있다."
   ]
  },
  {
   "cell_type": "markdown",
   "id": "08caf768",
   "metadata": {},
   "source": [
    "# 실습 5 (p.151)\n",
    "### 2 Proportion test"
   ]
  },
  {
   "cell_type": "markdown",
   "id": "e3ed7289",
   "metadata": {},
   "source": [
    "**1. 가설 수립 및 유의수준 설정**\n",
    "- 귀무가설 : 두 공정의 불량률이 같다.\n",
    "- 대립가설 : 두 공정의 불량률이 다르다.\n",
    "- 유의수준 : 0.05"
   ]
  },
  {
   "cell_type": "code",
   "execution_count": 26,
   "id": "ce9babfa",
   "metadata": {},
   "outputs": [
    {
     "name": "stdout",
     "output_type": "stream",
     "text": [
      "2 proportion test\n",
      "z:2.073\n",
      "p:0.038\n"
     ]
    }
   ],
   "source": [
    "# 변수 선언\n",
    "count = np.array([14, 5])\n",
    "nobs = np.array([1200, 1200])\n",
    "\n",
    "# Proportion test 실행\n",
    "stat, pval = proportions_ztest(count, nobs)\n",
    "\n",
    "# Proportion test 결과 출력\n",
    "print(\"2 proportion test\")\n",
    "print(\"z:{0:0.3f}\".format(stat))\n",
    "print(\"p:{0:0.3f}\".format(pval))"
   ]
  },
  {
   "cell_type": "markdown",
   "id": "8c8eb31e",
   "metadata": {},
   "source": [
    "**2. 가설 검정 수행**\n",
    "- 2 Proportion test 수행\n",
    "- 검정통계량 z는 2.073\n",
    "- p-value는 0.038"
   ]
  },
  {
   "cell_type": "markdown",
   "id": "9dfd0d15",
   "metadata": {},
   "source": [
    "**3. 검정 결과 판단**\n",
    "- p-value가 유의수준(0.05)보다 작으므로 귀무가설을 기각, 대립가설을 채택한다.\n",
    "- 두 공장의 불량률은 차이가 있다고 할 수 있다."
   ]
  },
  {
   "cell_type": "markdown",
   "id": "1af7beb7",
   "metadata": {},
   "source": [
    "# 실습 6 (p.167)\n",
    "### One way ANOVA"
   ]
  },
  {
   "cell_type": "markdown",
   "id": "84928f55",
   "metadata": {},
   "source": [
    "**1. 가설 수립 및 유의수준 설정**\n",
    "\n",
    "- 강종별\n",
    "    - 귀무가설 : 강종별 2차정련 시간의 평균이 똑같다.\n",
    "    - 대립가설 : 강종별 2차정련 간의 평균이 다른 것이 하나 이상 존재한다.\n",
    "    - 유의수준 : 0.05\n",
    "- type별\n",
    "    - 귀무가설 : 타입별 2차정련 시간의 평균이 똑같다.\n",
    "    - 대립가설 : 타입별 2차정련 간의 평균이 다른 것이 하나 이상 존재한다.\n",
    "    - 유의수준 : 0.05"
   ]
  },
  {
   "cell_type": "code",
   "execution_count": 89,
   "id": "ea9526b3",
   "metadata": {
    "collapsed": true
   },
   "outputs": [
    {
     "data": {
      "text/html": [
       "<div>\n",
       "<style scoped>\n",
       "    .dataframe tbody tr th:only-of-type {\n",
       "        vertical-align: middle;\n",
       "    }\n",
       "\n",
       "    .dataframe tbody tr th {\n",
       "        vertical-align: top;\n",
       "    }\n",
       "\n",
       "    .dataframe thead th {\n",
       "        text-align: right;\n",
       "    }\n",
       "</style>\n",
       "<table border=\"1\" class=\"dataframe\">\n",
       "  <thead>\n",
       "    <tr style=\"text-align: right;\">\n",
       "      <th></th>\n",
       "      <th>time</th>\n",
       "      <th>charge</th>\n",
       "      <th>gangjong</th>\n",
       "      <th>type</th>\n",
       "    </tr>\n",
       "  </thead>\n",
       "  <tbody>\n",
       "    <tr>\n",
       "      <th>0</th>\n",
       "      <td>32.2</td>\n",
       "      <td>A</td>\n",
       "      <td>a</td>\n",
       "      <td>a</td>\n",
       "    </tr>\n",
       "    <tr>\n",
       "      <th>1</th>\n",
       "      <td>30.4</td>\n",
       "      <td>B</td>\n",
       "      <td>a</td>\n",
       "      <td>a</td>\n",
       "    </tr>\n",
       "    <tr>\n",
       "      <th>2</th>\n",
       "      <td>33.6</td>\n",
       "      <td>C</td>\n",
       "      <td>a</td>\n",
       "      <td>a</td>\n",
       "    </tr>\n",
       "    <tr>\n",
       "      <th>3</th>\n",
       "      <td>36.4</td>\n",
       "      <td>D</td>\n",
       "      <td>a</td>\n",
       "      <td>a</td>\n",
       "    </tr>\n",
       "    <tr>\n",
       "      <th>4</th>\n",
       "      <td>33.9</td>\n",
       "      <td>E</td>\n",
       "      <td>a</td>\n",
       "      <td>a</td>\n",
       "    </tr>\n",
       "    <tr>\n",
       "      <th>5</th>\n",
       "      <td>34.9</td>\n",
       "      <td>F</td>\n",
       "      <td>a</td>\n",
       "      <td>a</td>\n",
       "    </tr>\n",
       "    <tr>\n",
       "      <th>6</th>\n",
       "      <td>33.1</td>\n",
       "      <td>A</td>\n",
       "      <td>b</td>\n",
       "      <td>a</td>\n",
       "    </tr>\n",
       "    <tr>\n",
       "      <th>7</th>\n",
       "      <td>29.9</td>\n",
       "      <td>B</td>\n",
       "      <td>b</td>\n",
       "      <td>a</td>\n",
       "    </tr>\n",
       "    <tr>\n",
       "      <th>8</th>\n",
       "      <td>31.7</td>\n",
       "      <td>C</td>\n",
       "      <td>b</td>\n",
       "      <td>a</td>\n",
       "    </tr>\n",
       "    <tr>\n",
       "      <th>9</th>\n",
       "      <td>27.5</td>\n",
       "      <td>D</td>\n",
       "      <td>b</td>\n",
       "      <td>a</td>\n",
       "    </tr>\n",
       "    <tr>\n",
       "      <th>10</th>\n",
       "      <td>34.0</td>\n",
       "      <td>E</td>\n",
       "      <td>b</td>\n",
       "      <td>a</td>\n",
       "    </tr>\n",
       "    <tr>\n",
       "      <th>11</th>\n",
       "      <td>30.7</td>\n",
       "      <td>F</td>\n",
       "      <td>b</td>\n",
       "      <td>a</td>\n",
       "    </tr>\n",
       "    <tr>\n",
       "      <th>12</th>\n",
       "      <td>32.6</td>\n",
       "      <td>A</td>\n",
       "      <td>c</td>\n",
       "      <td>b</td>\n",
       "    </tr>\n",
       "    <tr>\n",
       "      <th>13</th>\n",
       "      <td>32.7</td>\n",
       "      <td>B</td>\n",
       "      <td>c</td>\n",
       "      <td>b</td>\n",
       "    </tr>\n",
       "    <tr>\n",
       "      <th>14</th>\n",
       "      <td>29.3</td>\n",
       "      <td>C</td>\n",
       "      <td>c</td>\n",
       "      <td>b</td>\n",
       "    </tr>\n",
       "    <tr>\n",
       "      <th>15</th>\n",
       "      <td>25.9</td>\n",
       "      <td>D</td>\n",
       "      <td>c</td>\n",
       "      <td>b</td>\n",
       "    </tr>\n",
       "    <tr>\n",
       "      <th>16</th>\n",
       "      <td>31.1</td>\n",
       "      <td>E</td>\n",
       "      <td>c</td>\n",
       "      <td>b</td>\n",
       "    </tr>\n",
       "    <tr>\n",
       "      <th>17</th>\n",
       "      <td>23.8</td>\n",
       "      <td>F</td>\n",
       "      <td>c</td>\n",
       "      <td>b</td>\n",
       "    </tr>\n",
       "    <tr>\n",
       "      <th>18</th>\n",
       "      <td>26.7</td>\n",
       "      <td>A</td>\n",
       "      <td>d</td>\n",
       "      <td>b</td>\n",
       "    </tr>\n",
       "    <tr>\n",
       "      <th>19</th>\n",
       "      <td>28.5</td>\n",
       "      <td>B</td>\n",
       "      <td>d</td>\n",
       "      <td>b</td>\n",
       "    </tr>\n",
       "    <tr>\n",
       "      <th>20</th>\n",
       "      <td>30.9</td>\n",
       "      <td>C</td>\n",
       "      <td>d</td>\n",
       "      <td>b</td>\n",
       "    </tr>\n",
       "    <tr>\n",
       "      <th>21</th>\n",
       "      <td>26.2</td>\n",
       "      <td>D</td>\n",
       "      <td>d</td>\n",
       "      <td>b</td>\n",
       "    </tr>\n",
       "    <tr>\n",
       "      <th>22</th>\n",
       "      <td>32.3</td>\n",
       "      <td>E</td>\n",
       "      <td>d</td>\n",
       "      <td>b</td>\n",
       "    </tr>\n",
       "    <tr>\n",
       "      <th>23</th>\n",
       "      <td>23.7</td>\n",
       "      <td>F</td>\n",
       "      <td>d</td>\n",
       "      <td>b</td>\n",
       "    </tr>\n",
       "  </tbody>\n",
       "</table>\n",
       "</div>"
      ],
      "text/plain": [
       "    time charge gangjong type\n",
       "0   32.2      A        a    a\n",
       "1   30.4      B        a    a\n",
       "2   33.6      C        a    a\n",
       "3   36.4      D        a    a\n",
       "4   33.9      E        a    a\n",
       "5   34.9      F        a    a\n",
       "6   33.1      A        b    a\n",
       "7   29.9      B        b    a\n",
       "8   31.7      C        b    a\n",
       "9   27.5      D        b    a\n",
       "10  34.0      E        b    a\n",
       "11  30.7      F        b    a\n",
       "12  32.6      A        c    b\n",
       "13  32.7      B        c    b\n",
       "14  29.3      C        c    b\n",
       "15  25.9      D        c    b\n",
       "16  31.1      E        c    b\n",
       "17  23.8      F        c    b\n",
       "18  26.7      A        d    b\n",
       "19  28.5      B        d    b\n",
       "20  30.9      C        d    b\n",
       "21  26.2      D        d    b\n",
       "22  32.3      E        d    b\n",
       "23  23.7      F        d    b"
      ]
     },
     "execution_count": 89,
     "metadata": {},
     "output_type": "execute_result"
    }
   ],
   "source": [
    "ds_ANOVA = pd.read_csv(\"C:/Users/Myung-jin/Documents/210809_dataset/ANOVA.csv\")\n",
    "ds_ANOVA"
   ]
  },
  {
   "cell_type": "code",
   "execution_count": 144,
   "id": "5da86d80",
   "metadata": {},
   "outputs": [],
   "source": [
    "# gangjong별로\n",
    "df1_a = ds_ANOVA[ds_ANOVA['gangjong'] == 'a']['time'].tolist()\n",
    "df1_b = ds_ANOVA[ds_ANOVA['gangjong'] == 'b']['time'].tolist()\n",
    "df1_c = ds_ANOVA[ds_ANOVA['gangjong'] == 'c']['time'].tolist()\n",
    "df1_d = ds_ANOVA[ds_ANOVA['gangjong'] == 'd']['time'].tolist()\n",
    "\n",
    "# type별로\n",
    "df2_a = ds_ANOVA[ds_ANOVA['type'] == 'a']['time'].tolist()\n",
    "df2_b = ds_ANOVA[ds_ANOVA['type'] == 'b']['time'].tolist()"
   ]
  },
  {
   "cell_type": "code",
   "execution_count": 145,
   "id": "2ae1ad79",
   "metadata": {},
   "outputs": [],
   "source": [
    "g_data = pd.DataFrame({'a':df1_a, 'b':df1_b, 'c':df1_c, 'd':df1_d})\n",
    "t_data = pd.DataFrame({'a':df2_a, 'b':df2_b})"
   ]
  },
  {
   "cell_type": "markdown",
   "id": "c469be87",
   "metadata": {},
   "source": [
    "**One way ANOVA 시행**"
   ]
  },
  {
   "cell_type": "code",
   "execution_count": 148,
   "id": "a84d460b",
   "metadata": {},
   "outputs": [
    {
     "name": "stdout",
     "output_type": "stream",
     "text": [
      "One-way\n",
      "F 통계량 : 4.172\n",
      "p-value : 0.019\n"
     ]
    }
   ],
   "source": [
    "# gangjong\n",
    "g_result = stats.f_oneway(g_data['a'], g_data['b'], g_data['c'], g_data['d'])\n",
    "\n",
    "f, p = g_result.statistic.round(3), g_result.pvalue.round(3)\n",
    "\n",
    "print(\"One-way\")\n",
    "print(\"F 통계량 : {}\".format(f))\n",
    "print(\"p-value : {}\".format(p))"
   ]
  },
  {
   "cell_type": "code",
   "execution_count": 150,
   "id": "d9d44e62",
   "metadata": {},
   "outputs": [
    {
     "name": "stdout",
     "output_type": "stream",
     "text": [
      "One-way\n",
      "F 통계량 : 9.654\n",
      "p-value : 0.005\n"
     ]
    }
   ],
   "source": [
    "# type\n",
    "g_result = stats.f_oneway(t_data['a'], t_data['b'])\n",
    "f, p = g_result.statistic.round(3), g_result.pvalue.round(3)\n",
    "\n",
    "print(\"One-way\")\n",
    "print(\"F 통계량 : {}\".format(f))\n",
    "print(\"p-value : {}\".format(p))"
   ]
  },
  {
   "cell_type": "markdown",
   "id": "8c4e87fc",
   "metadata": {},
   "source": [
    "**2. 가설 검정 수행**\n",
    "- One way ANOVA 수행\n",
    "- 강종별\n",
    "    - 검정통계량 F는 4.172\n",
    "    - p-value는 0.019\n",
    "- 타입별\n",
    "    - 검정통계량 F는 9.654\n",
    "    - p-value는 0.005"
   ]
  },
  {
   "cell_type": "markdown",
   "id": "dda6e1ec",
   "metadata": {},
   "source": [
    "**3. 검정 결과 판단**\n",
    "- 강종에 따른 검정\n",
    "    - p-value가 유의수준(0.05)보다 작으므로 귀무가설을 기각, 대립가설을 채택한다.\n",
    "    - 강종에 따라 2차 정련 시간의 평균 차이가 있다고 할 수 있다.\n",
    "    \n",
    "- 타입에 따른 검정\n",
    "    - p-value가 유의수준(0.05)보다 작으므로 귀무가설을 기각, 대립가설을 채택한다.\n",
    "    - 타입에 따라 2차 정련 시간의 평균 차이가 있다고 할 수 있다."
   ]
  },
  {
   "cell_type": "markdown",
   "id": "b68c1ab1",
   "metadata": {},
   "source": [
    "# 실습 7 (p. 204)\n",
    "### Simple Linear Regression"
   ]
  },
  {
   "cell_type": "code",
   "execution_count": 117,
   "id": "f42fb019",
   "metadata": {},
   "outputs": [],
   "source": [
    "import matplotlib\n",
    "\n",
    "from statsmodels.formula.api import ols\n",
    "from statsmodels.api import qqplot, add_constant\n",
    "import statsmodels.formula.api as smf"
   ]
  },
  {
   "cell_type": "code",
   "execution_count": 118,
   "id": "79f41d54",
   "metadata": {},
   "outputs": [],
   "source": [
    "matplotlib.rc(\"font\", family = \"Malgun Gothic\")\n",
    "matplotlib.rc('axes', unicode_minus=False)"
   ]
  },
  {
   "cell_type": "markdown",
   "id": "b73d47b1",
   "metadata": {},
   "source": [
    "**1. 데이터 구성하기**"
   ]
  },
  {
   "cell_type": "code",
   "execution_count": 124,
   "id": "7c81a27f",
   "metadata": {},
   "outputs": [
    {
     "data": {
      "text/html": [
       "<div>\n",
       "<style scoped>\n",
       "    .dataframe tbody tr th:only-of-type {\n",
       "        vertical-align: middle;\n",
       "    }\n",
       "\n",
       "    .dataframe tbody tr th {\n",
       "        vertical-align: top;\n",
       "    }\n",
       "\n",
       "    .dataframe thead th {\n",
       "        text-align: right;\n",
       "    }\n",
       "</style>\n",
       "<table border=\"1\" class=\"dataframe\">\n",
       "  <thead>\n",
       "    <tr style=\"text-align: right;\">\n",
       "      <th></th>\n",
       "      <th>Strength</th>\n",
       "      <th>Bakingtime</th>\n",
       "    </tr>\n",
       "  </thead>\n",
       "  <tbody>\n",
       "    <tr>\n",
       "      <th>0</th>\n",
       "      <td>37.6</td>\n",
       "      <td>0.798922</td>\n",
       "    </tr>\n",
       "    <tr>\n",
       "      <th>1</th>\n",
       "      <td>38.6</td>\n",
       "      <td>0.849020</td>\n",
       "    </tr>\n",
       "    <tr>\n",
       "      <th>2</th>\n",
       "      <td>37.2</td>\n",
       "      <td>0.816163</td>\n",
       "    </tr>\n",
       "    <tr>\n",
       "      <th>3</th>\n",
       "      <td>36.4</td>\n",
       "      <td>0.758266</td>\n",
       "    </tr>\n",
       "    <tr>\n",
       "      <th>4</th>\n",
       "      <td>38.6</td>\n",
       "      <td>0.815894</td>\n",
       "    </tr>\n",
       "  </tbody>\n",
       "</table>\n",
       "</div>"
      ],
      "text/plain": [
       "   Strength  Bakingtime\n",
       "0      37.6    0.798922\n",
       "1      38.6    0.849020\n",
       "2      37.2    0.816163\n",
       "3      36.4    0.758266\n",
       "4      38.6    0.815894"
      ]
     },
     "execution_count": 124,
     "metadata": {},
     "output_type": "execute_result"
    }
   ],
   "source": [
    "# df 직접 입력\n",
    "df_raw = pd.DataFrame({'Strength':[37.6, 38.6, 37.2, 36.4, 38.6, 39, 37.2, 36.1, 35.9, 37.1,\n",
    "                                  36.9, 37.5, 36.3, 38.1, 39, 36.9, 36.8, 37.6, 33, 33.5],\n",
    "                      'Bakingtime':[0.798922, 0.84902, 0.816163, 0.758266, 0.815894, 0.807477, 0.809068, 0.7664, 0.742243, 0.751118,\n",
    "                                    0.740629, 0.751495, 0.738863, 0.827428, 0.818172, 0.740939, 0.757128, 0.804695, 0.695121, 0.735377]})\n",
    "df_raw.head()"
   ]
  },
  {
   "cell_type": "code",
   "execution_count": 125,
   "id": "503ffd29",
   "metadata": {},
   "outputs": [
    {
     "data": {
      "text/html": [
       "<div>\n",
       "<style scoped>\n",
       "    .dataframe tbody tr th:only-of-type {\n",
       "        vertical-align: middle;\n",
       "    }\n",
       "\n",
       "    .dataframe tbody tr th {\n",
       "        vertical-align: top;\n",
       "    }\n",
       "\n",
       "    .dataframe thead th {\n",
       "        text-align: right;\n",
       "    }\n",
       "</style>\n",
       "<table border=\"1\" class=\"dataframe\">\n",
       "  <thead>\n",
       "    <tr style=\"text-align: right;\">\n",
       "      <th></th>\n",
       "      <th>Strength</th>\n",
       "      <th>Bakingtime</th>\n",
       "    </tr>\n",
       "  </thead>\n",
       "  <tbody>\n",
       "    <tr>\n",
       "      <th>count</th>\n",
       "      <td>20.000</td>\n",
       "      <td>20.000</td>\n",
       "    </tr>\n",
       "    <tr>\n",
       "      <th>mean</th>\n",
       "      <td>36.965</td>\n",
       "      <td>0.776</td>\n",
       "    </tr>\n",
       "    <tr>\n",
       "      <th>std</th>\n",
       "      <td>1.565</td>\n",
       "      <td>0.041</td>\n",
       "    </tr>\n",
       "    <tr>\n",
       "      <th>min</th>\n",
       "      <td>33.000</td>\n",
       "      <td>0.695</td>\n",
       "    </tr>\n",
       "    <tr>\n",
       "      <th>25%</th>\n",
       "      <td>36.375</td>\n",
       "      <td>0.742</td>\n",
       "    </tr>\n",
       "    <tr>\n",
       "      <th>50%</th>\n",
       "      <td>37.150</td>\n",
       "      <td>0.762</td>\n",
       "    </tr>\n",
       "    <tr>\n",
       "      <th>75%</th>\n",
       "      <td>37.725</td>\n",
       "      <td>0.811</td>\n",
       "    </tr>\n",
       "    <tr>\n",
       "      <th>max</th>\n",
       "      <td>39.000</td>\n",
       "      <td>0.849</td>\n",
       "    </tr>\n",
       "  </tbody>\n",
       "</table>\n",
       "</div>"
      ],
      "text/plain": [
       "       Strength  Bakingtime\n",
       "count    20.000      20.000\n",
       "mean     36.965       0.776\n",
       "std       1.565       0.041\n",
       "min      33.000       0.695\n",
       "25%      36.375       0.742\n",
       "50%      37.150       0.762\n",
       "75%      37.725       0.811\n",
       "max      39.000       0.849"
      ]
     },
     "execution_count": 125,
     "metadata": {},
     "output_type": "execute_result"
    }
   ],
   "source": [
    "# 요약통계량\n",
    "df_raw.describe().round(3)"
   ]
  },
  {
   "cell_type": "markdown",
   "id": "179fe645",
   "metadata": {},
   "source": [
    "**2. 변수 간의 경향성 파악**"
   ]
  },
  {
   "cell_type": "code",
   "execution_count": 127,
   "id": "0a99936d",
   "metadata": {
    "scrolled": true
   },
   "outputs": [
    {
     "data": {
      "text/plain": [
       "<AxesSubplot:xlabel='Strength', ylabel='Bakingtime'>"
      ]
     },
     "execution_count": 127,
     "metadata": {},
     "output_type": "execute_result"
    },
    {
     "data": {
      "image/png": "[encoded data removed]",
      "text/plain": [
       "<Figure size 432x288 with 1 Axes>"
      ]
     },
     "metadata": {
      "needs_background": "light"
     },
     "output_type": "display_data"
    }
   ],
   "source": [
    "# 산점도 분석\n",
    "df_raw.plot.scatter(x=\"Strength\", y=\"Bakingtime\")"
   ]
  },
  {
   "cell_type": "markdown",
   "id": "61b219a7",
   "metadata": {},
   "source": [
    "- 산점도를 통해서 어느 정도 양의 상관관계가 있는 것으로 파악된다. \n",
    "- 상관계수를 통해 확실히 양의 상관관계가 있는지 알아보자."
   ]
  },
  {
   "cell_type": "code",
   "execution_count": 128,
   "id": "6153ffe5",
   "metadata": {},
   "outputs": [
    {
     "data": {
      "text/html": [
       "<div>\n",
       "<style scoped>\n",
       "    .dataframe tbody tr th:only-of-type {\n",
       "        vertical-align: middle;\n",
       "    }\n",
       "\n",
       "    .dataframe tbody tr th {\n",
       "        vertical-align: top;\n",
       "    }\n",
       "\n",
       "    .dataframe thead th {\n",
       "        text-align: right;\n",
       "    }\n",
       "</style>\n",
       "<table border=\"1\" class=\"dataframe\">\n",
       "  <thead>\n",
       "    <tr style=\"text-align: right;\">\n",
       "      <th></th>\n",
       "      <th>Strength</th>\n",
       "      <th>Bakingtime</th>\n",
       "    </tr>\n",
       "  </thead>\n",
       "  <tbody>\n",
       "    <tr>\n",
       "      <th>Strength</th>\n",
       "      <td>1.000</td>\n",
       "      <td>0.804</td>\n",
       "    </tr>\n",
       "    <tr>\n",
       "      <th>Bakingtime</th>\n",
       "      <td>0.804</td>\n",
       "      <td>1.000</td>\n",
       "    </tr>\n",
       "  </tbody>\n",
       "</table>\n",
       "</div>"
      ],
      "text/plain": [
       "            Strength  Bakingtime\n",
       "Strength       1.000       0.804\n",
       "Bakingtime     0.804       1.000"
      ]
     },
     "execution_count": 128,
     "metadata": {},
     "output_type": "execute_result"
    }
   ],
   "source": [
    "# 상관관계 분석(상관계수)\n",
    "df_raw.corr(method = \"pearson\").round(3)"
   ]
  },
  {
   "cell_type": "markdown",
   "id": "e174e1d6",
   "metadata": {},
   "source": [
    "- 상관계수가 0.804로 두 변수는 강한 양의 상관 관계에 있다고 할 수 있다."
   ]
  },
  {
   "cell_type": "markdown",
   "id": "5faa2aac",
   "metadata": {},
   "source": [
    "**3. 회귀 모델 생성**"
   ]
  },
  {
   "cell_type": "code",
   "execution_count": 136,
   "id": "2f0fea33",
   "metadata": {},
   "outputs": [
    {
     "name": "stdout",
     "output_type": "stream",
     "text": [
      "                            OLS Regression Results                            \n",
      "==============================================================================\n",
      "Dep. Variable:             Bakingtime   R-squared:                       0.646\n",
      "Model:                            OLS   Adj. R-squared:                  0.627\n",
      "Method:                 Least Squares   F-statistic:                     32.90\n",
      "Date:                Wed, 11 Aug 2021   Prob (F-statistic):           1.95e-05\n",
      "Time:                        22:54:47   Log-Likelihood:                 46.530\n",
      "No. Observations:                  20   AIC:                            -89.06\n",
      "Df Residuals:                      18   BIC:                            -87.07\n",
      "Df Model:                           1                                         \n",
      "Covariance Type:            nonrobust                                         \n",
      "==============================================================================\n",
      "                 coef    std err          t      P>|t|      [0.025      0.975]\n",
      "------------------------------------------------------------------------------\n",
      "Intercept      0.0023      0.135      0.017      0.987      -0.281       0.286\n",
      "Strength       0.0209      0.004      5.736      0.000       0.013       0.029\n",
      "==============================================================================\n",
      "Omnibus:                        2.651   Durbin-Watson:                   1.128\n",
      "Prob(Omnibus):                  0.266   Jarque-Bera (JB):                1.168\n",
      "Skew:                           0.047   Prob(JB):                        0.558\n",
      "Kurtosis:                       1.820   Cond. No.                         898.\n",
      "==============================================================================\n",
      "\n",
      "Notes:\n",
      "[1] Standard Errors assume that the covariance matrix of the errors is correctly specified.\n"
     ]
    }
   ],
   "source": [
    "# 선형 회귀 분석 이용. 상수항은 자동 추가\n",
    "reg_model = smf.ols(formula = \"Bakingtime ~ Strength\", data = df_raw)\n",
    "reg_result = reg_model.fit()\n",
    "print(reg_result.summary())"
   ]
  },
  {
   "cell_type": "markdown",
   "id": "7dc75a9b",
   "metadata": {},
   "source": [
    "- Df Model이 1 : 모델 자유도가 1이다.\n",
    "- Prob(F-statistic) 즉 p값이 유의수준 0.05보다 작으므로 회귀모델로서 유의해야한다. 모형의 적합성이 좋지 않다.\n",
    "- R-square가 0.646으로 0보다 1에 더 가깝긴 하지만 그렇다고 1에 근사하진 않기 때문에 모형설명력이 좋다고는 할 수 없다. 즉 Strength로 Bakingtime 변동의 64.6%를 설명할 수 있다.\n",
    "- p-value가 0.987로 기울기의 유의성이 있다. 하지만 Strength의 p값은 유의수준 0.05보다 작으므로 유의해야한다.\n",
    "- Prob(Omnibus)가 유의수준 0.05보다 크므로 잔차는 정규성이 있다."
   ]
  },
  {
   "cell_type": "markdown",
   "id": "a2e98090",
   "metadata": {},
   "source": [
    "**4. 오차의 기본가정 검토**"
   ]
  },
  {
   "cell_type": "code",
   "execution_count": 131,
   "id": "ed8a0325",
   "metadata": {},
   "outputs": [
    {
     "data": {
      "text/plain": [
       "<matplotlib.lines.Line2D at 0xed6e618c40>"
      ]
     },
     "execution_count": 131,
     "metadata": {},
     "output_type": "execute_result"
    },
    {
     "data": {
      "image/png": "[encoded data removed]",
      "text/plain": [
       "<Figure size 432x288 with 1 Axes>"
      ]
     },
     "metadata": {
      "needs_background": "light"
     },
     "output_type": "display_data"
    }
   ],
   "source": [
    "# 잔차의 등분산성 : X-예측값,  Y-잔차\n",
    "plt.scatter(reg_result.fittedvalues, reg_result.resid)\n",
    "plt.xlabel(\"fitted value\"); plt.ylabel(\"residual\")\n",
    "plt.axhline(y=0, linestyle = \"--\")"
   ]
  },
  {
   "cell_type": "markdown",
   "id": "bfc35c2b",
   "metadata": {},
   "source": [
    "- 경향성이 없고 랜덤하게 퍼져있기 때문에 등분산성을 만족한다."
   ]
  },
  {
   "cell_type": "code",
   "execution_count": 132,
   "id": "78782fc8",
   "metadata": {},
   "outputs": [
    {
     "data": {
      "text/plain": [
       "<matplotlib.lines.Line2D at 0xed6d492ca0>"
      ]
     },
     "execution_count": 132,
     "metadata": {},
     "output_type": "execute_result"
    },
    {
     "data": {
      "image/png": "[encoded data removed]",
      "text/plain": [
       "<Figure size 432x288 with 1 Axes>"
      ]
     },
     "metadata": {
      "needs_background": "light"
     },
     "output_type": "display_data"
    }
   ],
   "source": [
    "# 잔차의 독립성\n",
    "plt.plot(df_raw[\"Strength\"], reg_result.resid, marker=\"o\")\n",
    "plt.xlabel(\"Data\")\n",
    "plt.ylabel(\"residual\")\n",
    "plt.axhline(y=0, linestyle=\"-\")\n",
    "plt.axhline(y=3*np.std(reg_result.resid), linestyle=\"--\")\n",
    "plt.axhline(y=-3*np.std(reg_result.resid), linestyle=\"--\")"
   ]
  },
  {
   "cell_type": "code",
   "execution_count": 133,
   "id": "edc349e9",
   "metadata": {},
   "outputs": [
    {
     "data": {
      "text/plain": [
       "1.1281763812390104"
      ]
     },
     "execution_count": 133,
     "metadata": {},
     "output_type": "execute_result"
    }
   ],
   "source": [
    "from statsmodels.stats.stattools import durbin_watson\n",
    "\n",
    "durbin_watson(reg_result.resid)"
   ]
  },
  {
   "cell_type": "markdown",
   "id": "5626a94c",
   "metadata": {},
   "source": [
    "- 독립성을 띄는 것 같은데 해석하기가 힘들어 durbin-watson 검정을 통해 통계량을 확인해보았다.\n",
    "- 0에 가까우면 양의 상관, 2에 가까우면 독립인데 굳이 따지자면 2에 가까우므로 독립성을 띄는 것 같다."
   ]
  },
  {
   "cell_type": "code",
   "execution_count": 134,
   "id": "cacda0b9",
   "metadata": {},
   "outputs": [
    {
     "data": {
      "image/png": "[encoded data removed]",
      "text/plain": [
       "<Figure size 432x288 with 1 Axes>"
      ]
     },
     "execution_count": 134,
     "metadata": {},
     "output_type": "execute_result"
    },
    {
     "data": {
      "image/png": "[encoded data removed]",
      "text/plain": [
       "<Figure size 432x288 with 1 Axes>"
      ]
     },
     "metadata": {
      "needs_background": "light"
     },
     "output_type": "display_data"
    }
   ],
   "source": [
    "# 잔차의 정규성 검정\n",
    "qqplot(reg_result.resid, line=\"q\")"
   ]
  },
  {
   "cell_type": "code",
   "execution_count": 135,
   "id": "77bfd7ef",
   "metadata": {},
   "outputs": [
    {
     "data": {
      "text/plain": [
       "NormaltestResult(statistic=2.6513017707721476, pvalue=0.26563000811901577)"
      ]
     },
     "execution_count": 135,
     "metadata": {},
     "output_type": "execute_result"
    }
   ],
   "source": [
    "from statsmodels.stats.stattools import omni_normtest\n",
    "omni_normtest(reg_result.resid, axis=0)"
   ]
  },
  {
   "cell_type": "markdown",
   "id": "96229ca6",
   "metadata": {},
   "source": [
    "- qqplot과 omni_normtest를 통해 잔차의 정규성을 확인해보았는데 그래프에서는 두드러지게 직선에 가깝기 때문에 정규성이 있다고 볼 수 있다.\n",
    "- 밑의 pvalue를 통해 귀무가설이 채택되므로 정규분포를 따른다.\n",
    "\n",
    "#### 따라서 잔차의 전제사항인 정규성, 등분산성, 독립성을 충족하므로 선형회귀분석을 이용할 수 있다.\n",
    "\n",
    "#### 위의 분석을 통해 잔차의 전제사항을 만족하며 선형회귀분석에서 기울기가 의미가 있다는 점에서는 좋지만,\n",
    "#### 모형의 적합성, 설명력이 그다지 좋지 않다고 판단한다. 그래서 현장에 적용하면 잘 사용하기는 힘들 것 같다."
   ]
  }
 ],
 "metadata": {
  "kernelspec": {
   "display_name": "Python 3",
   "language": "python",
   "name": "python3"
  },
  "language_info": {
   "codemirror_mode": {
    "name": "ipython",
    "version": 3
   },
   "file_extension": ".py",
   "mimetype": "text/x-python",
   "name": "python",
   "nbconvert_exporter": "python",
   "pygments_lexer": "ipython3",
   "version": "3.8.8"
  }
 },
 "nbformat": 4,
 "nbformat_minor": 5
}
