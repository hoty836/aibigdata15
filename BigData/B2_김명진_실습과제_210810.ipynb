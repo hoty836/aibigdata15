{
 "cells": [
  {
   "cell_type": "code",
   "execution_count": 1,
   "id": "ecaf0258",
   "metadata": {},
   "outputs": [],
   "source": [
    "import numpy as np\n",
    "from scipy import stats\n",
    "import pandas as pd\n",
    "import statsmodels.api as sm\n",
    "import matplotlib.pyplot as plt\n",
    "import seaborn as sns\n",
    "from statsmodels.stats.proportion import proportions_ztest"
   ]
  },
  {
   "cell_type": "markdown",
   "id": "ed87947e",
   "metadata": {},
   "source": [
    "## 실습과제 1 (p.45)\n",
    "#### 정규분포의 확률 계산"
   ]
  },
  {
   "cell_type": "code",
   "execution_count": 2,
   "id": "6d7489a1",
   "metadata": {},
   "outputs": [
    {
     "name": "stdout",
     "output_type": "stream",
     "text": [
      "9km 이상 15km 이하를 달릴 확률은 0.683\n",
      "15km 이상을 달릴 확률은 0.159\n"
     ]
    }
   ],
   "source": [
    "# 평균 12, 표준편차가 3인 정규분포\n",
    "mu = 12\n",
    "sigma = 3\n",
    "\n",
    "# prob1 : 누적확률 15 이하 값 계산\n",
    "# 정규분포는 평균을 중심으로 종 모양 대칭이므로\n",
    "# 9 이상 15 이하일 확률은 2*(12 이상 15 이하일 확률) = 2 * (0.5 - prob1)\n",
    "prob1 = stats.norm.cdf(mu+sigma, mu, sigma)\n",
    "print(\"{0}km 이상 {1}km 이하를 달릴 확률은 {2:.3f}\".format(mu-sigma, mu+sigma, (prob1-0.5)*2))\n",
    "\n",
    "# prob2 : 전체 확률 1 - prob1 = 15 이상일 확률\n",
    "prob2 = 1-prob1\n",
    "print(\"{0}km 이상을 달릴 확률은 {1:.3f}\".format(mu+sigma, prob2))"
   ]
  },
  {
   "cell_type": "markdown",
   "id": "bfca2be1",
   "metadata": {},
   "source": [
    "## 실습과제 2 (p.78)\n",
    "#### 포아송 분포에서의 확률 계산"
   ]
  },
  {
   "cell_type": "code",
   "execution_count": 3,
   "id": "bc8b6819",
   "metadata": {},
   "outputs": [
    {
     "name": "stdout",
     "output_type": "stream",
     "text": [
      "1시간에 2명의 손님이 도착할 확률 : 0.224\n",
      "1시간에 1명 이하의 손님이 도착할 확률 : 0.199\n",
      "1시간에 3명 이상의 손님이 도착할 확률 : 0.577\n"
     ]
    }
   ],
   "source": [
    "# 평균\n",
    "mu = 3\n",
    "\n",
    "# prob1 : 1시간에 2명의 손님이 도착할 확률\n",
    "prob1 = stats.poisson.pmf(2, mu)\n",
    "\n",
    "# prob2 : 1시간에 1명 이하의 손님이 도착할 확률\n",
    "prob2 = stats.poisson.cdf(1, mu)\n",
    "\n",
    "# prob3 : 1시간에 3명 이상의 손님이 도착할 확률\n",
    "# = 1 - (2명 이하 누적확률)\n",
    "prob3 = stats.poisson.cdf(2, mu)\n",
    "prob3 = 1-prob3\n",
    "\n",
    "print(\"1시간에 {0}명의 손님이 도착할 확률 : {1:.3f}\".format(2, prob1))\n",
    "print(\"1시간에 {0}명 이하의 손님이 도착할 확률 : {1:.3f}\".format(1, prob2))\n",
    "print(\"1시간에 {0}명 이상의 손님이 도착할 확률 : {1:.3f}\".format(3, prob3))"
   ]
  },
  {
   "cell_type": "markdown",
   "id": "8e0efc5c",
   "metadata": {},
   "source": [
    "## 실습과제 3 (p.96)\n",
    "#### 정규성 검정"
   ]
  },
  {
   "cell_type": "code",
   "execution_count": 4,
   "id": "7df0a9d8",
   "metadata": {},
   "outputs": [
    {
     "data": {
      "text/html": [
       "<div>\n",
       "<style scoped>\n",
       "    .dataframe tbody tr th:only-of-type {\n",
       "        vertical-align: middle;\n",
       "    }\n",
       "\n",
       "    .dataframe tbody tr th {\n",
       "        vertical-align: top;\n",
       "    }\n",
       "\n",
       "    .dataframe thead th {\n",
       "        text-align: right;\n",
       "    }\n",
       "</style>\n",
       "<table border=\"1\" class=\"dataframe\">\n",
       "  <thead>\n",
       "    <tr style=\"text-align: right;\">\n",
       "      <th></th>\n",
       "      <th>Mat_A</th>\n",
       "      <th>Mat_B</th>\n",
       "      <th>Total</th>\n",
       "      <th>Sub</th>\n",
       "    </tr>\n",
       "  </thead>\n",
       "  <tbody>\n",
       "    <tr>\n",
       "      <th>0</th>\n",
       "      <td>73.4</td>\n",
       "      <td>68.7</td>\n",
       "      <td>73.4</td>\n",
       "      <td>1</td>\n",
       "    </tr>\n",
       "    <tr>\n",
       "      <th>1</th>\n",
       "      <td>77.0</td>\n",
       "      <td>71.4</td>\n",
       "      <td>77.0</td>\n",
       "      <td>1</td>\n",
       "    </tr>\n",
       "    <tr>\n",
       "      <th>2</th>\n",
       "      <td>73.7</td>\n",
       "      <td>69.8</td>\n",
       "      <td>73.7</td>\n",
       "      <td>1</td>\n",
       "    </tr>\n",
       "    <tr>\n",
       "      <th>3</th>\n",
       "      <td>73.3</td>\n",
       "      <td>75.3</td>\n",
       "      <td>73.3</td>\n",
       "      <td>1</td>\n",
       "    </tr>\n",
       "    <tr>\n",
       "      <th>4</th>\n",
       "      <td>73.1</td>\n",
       "      <td>71.3</td>\n",
       "      <td>73.1</td>\n",
       "      <td>1</td>\n",
       "    </tr>\n",
       "  </tbody>\n",
       "</table>\n",
       "</div>"
      ],
      "text/plain": [
       "   Mat_A  Mat_B  Total  Sub\n",
       "0   73.4   68.7   73.4    1\n",
       "1   77.0   71.4   77.0    1\n",
       "2   73.7   69.8   73.7    1\n",
       "3   73.3   75.3   73.3    1\n",
       "4   73.1   71.3   73.1    1"
      ]
     },
     "execution_count": 4,
     "metadata": {},
     "output_type": "execute_result"
    }
   ],
   "source": [
    "# 패키지 가져오기\n",
    "from scipy.stats import shapiro\n",
    "\n",
    "# 데이터셋 불러오기\n",
    "ds = pd.read_csv(\"C:/Users/Myung-jin/Documents/210809_dataset/2sample_t_test.csv\")\n",
    "# 결측치 값 제거\n",
    "ds = ds.dropna()\n",
    "ds.head()"
   ]
  },
  {
   "cell_type": "code",
   "execution_count": 5,
   "id": "0049277a",
   "metadata": {},
   "outputs": [
    {
     "data": {
      "text/plain": [
       "ShapiroResult(statistic=0.9062638878822327, pvalue=0.25630074739456177)"
      ]
     },
     "execution_count": 5,
     "metadata": {},
     "output_type": "execute_result"
    }
   ],
   "source": [
    "# 변수 Mat_A에 대한 정규성 검정\n",
    "data1 = ds['Mat_A']\n",
    "shapiro(data1)"
   ]
  },
  {
   "cell_type": "code",
   "execution_count": 6,
   "id": "3525676e",
   "metadata": {},
   "outputs": [
    {
     "name": "stdout",
     "output_type": "stream",
     "text": [
      "Shapiro-Wilk Test : statistic=0.9062638878822327, p-value=0.25630074739456177\n"
     ]
    }
   ],
   "source": [
    "statistic1, p1 = stats.shapiro(data1)\n",
    "print(\"Shapiro-Wilk Test : statistic={}, p-value={}\".format(statistic1, p1))"
   ]
  },
  {
   "cell_type": "code",
   "execution_count": 7,
   "id": "b24feb95",
   "metadata": {},
   "outputs": [
    {
     "data": {
      "text/plain": [
       "'\\n1. 가설 수립\\n- 가설 검정의 목적은 정규성 검정이다.\\n- H0(귀무가설) : 정규분포를 따른다.\\n- H1(대립가설) : 정규분포를 따르지 않는다.\\n- 유의수준 설정 : 0.05\\n\\n2. 가설 검정 \\n- 데이터로부터 검정통계량과 p-value 계산한다.\\n- 검정통계량(statistic) = 0.9062638878822327\\n- p-value = 0.25630074739456177\\n\\n3. 검정결과 판단\\n- 정규성 검정결과(95% 신뢰수준 사용시) p-value > 유의수준(0.05)이므로 귀무가설을 채택한다.\\n- 변수 Mat_A에 대해 수집된 표본 데이터는 정규분포를 따른다고 볼 수 있다.\\n'"
      ]
     },
     "execution_count": 7,
     "metadata": {},
     "output_type": "execute_result"
    }
   ],
   "source": [
    "\"\"\"\n",
    "1. 가설 수립\n",
    "- 가설 검정의 목적은 정규성 검정이다.\n",
    "- H0(귀무가설) : 정규분포를 따른다.\n",
    "- H1(대립가설) : 정규분포를 따르지 않는다.\n",
    "- 유의수준 설정 : 0.05\n",
    "\n",
    "2. 가설 검정 \n",
    "- 데이터로부터 검정통계량과 p-value 계산한다.\n",
    "- 검정통계량(statistic) = 0.9062638878822327\n",
    "- p-value = 0.25630074739456177\n",
    "\n",
    "3. 검정결과 판단\n",
    "- 정규성 검정결과(95% 신뢰수준 사용시) p-value > 유의수준(0.05)이므로 귀무가설을 채택한다.\n",
    "- 변수 Mat_A에 대해 수집된 표본 데이터는 정규분포를 따른다고 볼 수 있다.\n",
    "\"\"\""
   ]
  },
  {
   "cell_type": "code",
   "execution_count": 8,
   "id": "c5e790ed",
   "metadata": {},
   "outputs": [
    {
     "data": {
      "text/plain": [
       "ShapiroResult(statistic=0.9729756116867065, pvalue=0.9169799089431763)"
      ]
     },
     "execution_count": 8,
     "metadata": {},
     "output_type": "execute_result"
    }
   ],
   "source": [
    "# 변수 Mat_B에 대한 정규성 검정\n",
    "data2 = ds['Mat_B']\n",
    "shapiro(data2)"
   ]
  },
  {
   "cell_type": "code",
   "execution_count": 9,
   "id": "65855e51",
   "metadata": {},
   "outputs": [
    {
     "name": "stdout",
     "output_type": "stream",
     "text": [
      "Shapiro-Wilk Test : statistic=0.9729756116867065, p-value=0.9169799089431763\n"
     ]
    }
   ],
   "source": [
    "statistic2, p2 = stats.shapiro(data2)\n",
    "print(\"Shapiro-Wilk Test : statistic={}, p-value={}\".format(statistic2, p2))"
   ]
  },
  {
   "cell_type": "code",
   "execution_count": 10,
   "id": "c327a5c1",
   "metadata": {},
   "outputs": [
    {
     "data": {
      "text/plain": [
       "'\\n1. 가설 수립\\n- 가설 검정의 목적은 정규성 검정이다.\\n- H0(귀무가설) : 정규분포를 따른다.\\n- H1(대립가설) : 정규분포를 따르지 않는다.\\n- 유의수준 설정 : 0.05\\n\\n2. 가설 검정 \\n- 데이터로부터 검정통계량과 p-value 계산한다.\\n- 검정통계량(statistic) = 0.9729756116867065\\n- p-value = 0.9169799089431763\\n\\n3. 검정결과 판단\\n- 정규성 검정결과(95% 신뢰수준 사용시) p-value > 유의수준(0.05)이므로 귀무가설을 채택한다.\\n- 변수 Mat_B에 대해 수집된 표본 데이터는 정규분포를 따른다고 볼 수 있다.\\n'"
      ]
     },
     "execution_count": 10,
     "metadata": {},
     "output_type": "execute_result"
    }
   ],
   "source": [
    "\"\"\"\n",
    "1. 가설 수립\n",
    "- 가설 검정의 목적은 정규성 검정이다.\n",
    "- H0(귀무가설) : 정규분포를 따른다.\n",
    "- H1(대립가설) : 정규분포를 따르지 않는다.\n",
    "- 유의수준 설정 : 0.05\n",
    "\n",
    "2. 가설 검정 \n",
    "- 데이터로부터 검정통계량과 p-value 계산한다.\n",
    "- 검정통계량(statistic) = 0.9729756116867065\n",
    "- p-value = 0.9169799089431763\n",
    "\n",
    "3. 검정결과 판단\n",
    "- 정규성 검정결과(95% 신뢰수준 사용시) p-value > 유의수준(0.05)이므로 귀무가설을 채택한다.\n",
    "- 변수 Mat_B에 대해 수집된 표본 데이터는 정규분포를 따른다고 볼 수 있다.\n",
    "\"\"\""
   ]
  },
  {
   "cell_type": "markdown",
   "id": "96d3445b",
   "metadata": {},
   "source": [
    "## 실습과제 4 (p.99)\n",
    "#### 모표준편차를 아는 경우 모평균 추정"
   ]
  },
  {
   "cell_type": "code",
   "execution_count": 15,
   "id": "8bd8461e",
   "metadata": {},
   "outputs": [
    {
     "name": "stdout",
     "output_type": "stream",
     "text": [
      "신뢰구간 : ([17.83], [21.17])\n"
     ]
    }
   ],
   "source": [
    "# df 직접 입력\n",
    "df = pd.DataFrame({'sample':[18, 18, 20, 21, 20, 23, 19, 18, 17, 21,\n",
    "                            22, 20, 20, 21, 20, 19, 19, 18, 17, 19]})\n",
    "\n",
    "# 정규분포 구간 추정 함수 실행\n",
    "lower, upper = stats.norm.interval(0.95, loc = np.mean(df), scale = 3.8/np.sqrt(20))\n",
    "print(\"신뢰구간 : ({0}, {1})\".format(lower.round(2), upper.round(2)))"
   ]
  },
  {
   "cell_type": "markdown",
   "id": "c8d472e8",
   "metadata": {},
   "source": [
    "#### 직접 계산 시\n",
    "![Q4_210810](file:///C:/Users/Myung-jin/Downloads/Q4_210810.jpg)"
   ]
  },
  {
   "cell_type": "code",
   "execution_count": 16,
   "id": "bafbd87f",
   "metadata": {},
   "outputs": [
    {
     "data": {
      "text/plain": [
       "'신품종 감자의 평균 무게에 대한 95% 신뢰구간이 17.83에서 21.17 사이이다'"
      ]
     },
     "execution_count": 16,
     "metadata": {},
     "output_type": "execute_result"
    }
   ],
   "source": [
    "\"\"\"신품종 감자의 평균 무게에 대한 95% 신뢰구간이 17.83에서 21.17 사이이다\"\"\""
   ]
  },
  {
   "cell_type": "markdown",
   "id": "f59627b7",
   "metadata": {},
   "source": [
    "## 실습과제 5 (p.102)\n",
    "#### 모표준편차를 모르는 경우 모평균 추정"
   ]
  },
  {
   "cell_type": "code",
   "execution_count": 11,
   "id": "b8211686",
   "metadata": {},
   "outputs": [
    {
     "name": "stdout",
     "output_type": "stream",
     "text": [
      "신뢰구간 : ([70.6], [72.4])\n"
     ]
    }
   ],
   "source": [
    "# df 직접 입력\n",
    "df = pd.DataFrame({'sample':[73, 71, 74, 69, 70, 73, 70, 68, 75, 72,\n",
    "                            70, 72, 73, 70, 70, 72, 71, 70, 75, 72]})\n",
    "\n",
    "# 정규분포 구간 추정 함수 실행\n",
    "lower, upper = stats.t.interval(0.95, len(df)-1, loc = np.mean(df), scale = stats.sem(df))\n",
    "print(\"신뢰구간 : ({0}, {1})\".format(lower.round(2), upper.round(2)))"
   ]
  },
  {
   "cell_type": "markdown",
   "id": "fb72ad5a",
   "metadata": {},
   "source": [
    "#### 직접 계산 시(t분포는 코드 통해 계산)"
   ]
  },
  {
   "cell_type": "code",
   "execution_count": 18,
   "id": "ea57d2e0",
   "metadata": {},
   "outputs": [
    {
     "data": {
      "text/plain": [
       "-2.0930240544082634"
      ]
     },
     "execution_count": 18,
     "metadata": {},
     "output_type": "execute_result"
    }
   ],
   "source": [
    "prop = stats.t.ppf(0.025, 19)\n",
    "prop"
   ]
  },
  {
   "cell_type": "markdown",
   "id": "a5f1d74e",
   "metadata": {},
   "source": [
    "![Q5_210810](file:///C:/Users/Myung-jin/Downloads/Q5_210810.jpg)"
   ]
  },
  {
   "cell_type": "code",
   "execution_count": 19,
   "id": "c240a828",
   "metadata": {},
   "outputs": [
    {
     "data": {
      "text/plain": [
       "'\\n신뢰구간이 70.6에서 72.4 사이인데 70은 신뢰구간에 포함되지 않으므로 \\n제품개발자는 강종의 평균 인장강도를 70으로 기대할 수 없을 것이다.\\n'"
      ]
     },
     "execution_count": 19,
     "metadata": {},
     "output_type": "execute_result"
    }
   ],
   "source": [
    "\"\"\"\n",
    "신뢰구간이 70.6에서 72.4 사이인데 70은 신뢰구간에 포함되지 않으므로 \n",
    "제품개발자는 강종의 평균 인장강도를 70으로 기대할 수 없을 것이다.\n",
    "\"\"\""
   ]
  }
 ],
 "metadata": {
  "kernelspec": {
   "display_name": "Python 3",
   "language": "python",
   "name": "python3"
  },
  "language_info": {
   "codemirror_mode": {
    "name": "ipython",
    "version": 3
   },
   "file_extension": ".py",
   "mimetype": "text/x-python",
   "name": "python",
   "nbconvert_exporter": "python",
   "pygments_lexer": "ipython3",
   "version": "3.8.8"
  }
 },
 "nbformat": 4,
 "nbformat_minor": 5
}
