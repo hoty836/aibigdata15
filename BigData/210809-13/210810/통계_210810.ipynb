{
 "cells": [
  {
   "cell_type": "code",
   "execution_count": 1,
   "id": "14457c98",
   "metadata": {},
   "outputs": [],
   "source": [
    "import numpy as np\n",
    "import pandas as pd\n",
    "\n",
    "# 데이터 시각화 패키지\n",
    "import matplotlib.pyplot as plt\n",
    "\n",
    "# 통계분석 패키지\n",
    "from scipy import stats\n",
    "\n",
    "import statsmodels.api as sm\n",
    "import seaborn as sns\n",
    "from statsmodels.stats.proportion import proportions_ztest"
   ]
  },
  {
   "cell_type": "markdown",
   "id": "2980d168",
   "metadata": {},
   "source": [
    "# 1. 정규분포의 확률계산\n",
    "1. AS 작업 수행 시, 평균 115분 / 표준편차 20분 소요\n",
    "- AS 작업시간의 허용범위가 135분 이내라면, 135분 이상 걸리는 AS 비율"
   ]
  },
  {
   "cell_type": "code",
   "execution_count": 2,
   "id": "ac02d704",
   "metadata": {},
   "outputs": [
    {
     "name": "stdout",
     "output_type": "stream",
     "text": [
      "135분 이상 걸리는 A/S 작업 비율 : 15.9%\n"
     ]
    }
   ],
   "source": [
    "# 누적확률 계산\n",
    "\n",
    "mu = 115 # 평균\n",
    "sigma = 20 # 표준편차\n",
    "x = 135\n",
    "prob = stats.norm.cdf(x, mu, sigma)\n",
    "print(\"{0}분 이상 걸리는 A/S 작업 비율 : {1:.1f}%\".format(x, (1-prob)*100))\n",
    "# 다른 표기 : print(\"135분 이상 걸리는 AS 비율 = %.2f%%\"%((1-prob)*100))"
   ]
  },
  {
   "cell_type": "markdown",
   "id": "c2cc008a",
   "metadata": {},
   "source": [
    "2. 키 측정한 결과, 평균 175cm / 표준편차 5cm\n",
    "- 나의 키가 180cm라면, 몇 % 범위에 위치할지 비율"
   ]
  },
  {
   "cell_type": "code",
   "execution_count": 6,
   "id": "ffd19657",
   "metadata": {
    "scrolled": true
   },
   "outputs": [
    {
     "name": "stdout",
     "output_type": "stream",
     "text": [
      "나의 키가 180cm일 경우 15.9% 범위에 위치한다\n"
     ]
    }
   ],
   "source": [
    "mu = 175\n",
    "sigma = 5\n",
    "x = 180\n",
    "\n",
    "prob = stats.norm.cdf(x, mu, sigma)\n",
    "print(\"나의 키가 180cm일 경우 %.1f%% 범위에 위치한다\"%((1-prob)*100))"
   ]
  },
  {
   "cell_type": "markdown",
   "id": "80f348ad",
   "metadata": {},
   "source": [
    "3. 자동차 1리터당 주행거리 평균 = 12km, 표준편차 3km인 정규분포\n",
    "- 1리터를 가지고 12km 이상 15km 이하 달릴 확률"
   ]
  },
  {
   "cell_type": "code",
   "execution_count": 8,
   "id": "0a4d6884",
   "metadata": {},
   "outputs": [
    {
     "name": "stdout",
     "output_type": "stream",
     "text": [
      "12km 이상 15km 이하를 달릴 확률은 0.341\n"
     ]
    }
   ],
   "source": [
    "mu = 12\n",
    "sigma = 3\n",
    "x1 = 15\n",
    "\n",
    "prob1 = stats.norm.cdf(x1, mu, sigma)\n",
    "print(\"{0}km 이상 {1}km 이하를 달릴 확률은 {2:.3f}\".format(mu, x1, (prob1-0.5)))"
   ]
  },
  {
   "cell_type": "markdown",
   "id": "61f1790a",
   "metadata": {},
   "source": [
    "# 2. t분포"
   ]
  },
  {
   "cell_type": "markdown",
   "id": "e6d36f16",
   "metadata": {},
   "source": [
    "1. t = 1.53 ~ t(5) 일 때, P(T≤t) = ?"
   ]
  },
  {
   "cell_type": "code",
   "execution_count": 10,
   "id": "2a165dc6",
   "metadata": {},
   "outputs": [
    {
     "name": "stdout",
     "output_type": "stream",
     "text": [
      "P(T<=F): 0.907\n"
     ]
    }
   ],
   "source": [
    "t = 1.53\n",
    "df = 5 #자유도\n",
    "\n",
    "prob = stats.t.cdf(t, df)\n",
    "print(\"P(T<=F): {:.3f}\".format(prob))"
   ]
  },
  {
   "cell_type": "markdown",
   "id": "534013e9",
   "metadata": {},
   "source": [
    "1-1. 자유도를 높인다면?"
   ]
  },
  {
   "cell_type": "code",
   "execution_count": 11,
   "id": "a1d187f1",
   "metadata": {},
   "outputs": [
    {
     "name": "stdout",
     "output_type": "stream",
     "text": [
      "P(T<=F): 0.932\n"
     ]
    }
   ],
   "source": [
    "t = 1.53\n",
    "df = 30\n",
    "\n",
    "prob = stats.t.cdf(t, df)\n",
    "print(\"P(T<=F): {:.3f}\".format(prob))"
   ]
  },
  {
   "cell_type": "markdown",
   "id": "f05d3cc7",
   "metadata": {},
   "source": [
    "2. t = 2.0 ~ t(100)일 때, P(T≤t) = ?"
   ]
  },
  {
   "cell_type": "code",
   "execution_count": 12,
   "id": "f7137abe",
   "metadata": {},
   "outputs": [
    {
     "name": "stdout",
     "output_type": "stream",
     "text": [
      "P(T<=F): 0.976\n"
     ]
    }
   ],
   "source": [
    "t = 2\n",
    "df = 100\n",
    "\n",
    "prob = stats.t.cdf(t, df)\n",
    "print(\"P(T<=F): {:.3f}\".format(prob))"
   ]
  },
  {
   "cell_type": "markdown",
   "id": "d5c4b1e9",
   "metadata": {},
   "source": [
    "# 3. 카이제곱분포의 확률계산\n",
    "1. 카이제곱분포 그리기 연습\n",
    "    - 랜덤 데이터 생성 : n = 1000, 자유도 = 10\n",
    "    - 랜덤 데이터 생성 : n = 1000, 자유도 = 40"
   ]
  },
  {
   "cell_type": "code",
   "execution_count": 20,
   "id": "d97ea69e",
   "metadata": {},
   "outputs": [
    {
     "name": "stderr",
     "output_type": "stream",
     "text": [
      "C:\\Users\\Myung-jin\\anaconda3\\lib\\site-packages\\seaborn\\distributions.py:2557: FutureWarning: `distplot` is a deprecated function and will be removed in a future version. Please adapt your code to use either `displot` (a figure-level function with similar flexibility) or `histplot` (an axes-level function for histograms).\n",
      "  warnings.warn(msg, FutureWarning)\n"
     ]
    },
    {
     "data": {
      "text/plain": [
       "<AxesSubplot:ylabel='Density'>"
      ]
     },
     "execution_count": 20,
     "metadata": {},
     "output_type": "execute_result"
    },
    {
     "data": {
      "image/png": "[encoded data removed]",
      "text/plain": [
       "<Figure size 432x288 with 1 Axes>"
      ]
     },
     "metadata": {
      "needs_background": "light"
     },
     "output_type": "display_data"
    }
   ],
   "source": [
    "# seed 선택을 하여 매번 실행 시 동일한 값이 나오도록 설정\n",
    "np.random.seed(seed=1234)\n",
    "\n",
    "# 카이제곱분포 데이터 생성\n",
    "chisq_df10 = np.random.chisquare(df=10, size=1000)\n",
    "\n",
    "sns.distplot(chisq_df10, fit = stats.norm, kde = True)"
   ]
  },
  {
   "cell_type": "code",
   "execution_count": 17,
   "id": "d4c7c7a7",
   "metadata": {
    "scrolled": false
   },
   "outputs": [
    {
     "name": "stderr",
     "output_type": "stream",
     "text": [
      "C:\\Users\\Myung-jin\\anaconda3\\lib\\site-packages\\seaborn\\distributions.py:2557: FutureWarning: `distplot` is a deprecated function and will be removed in a future version. Please adapt your code to use either `displot` (a figure-level function with similar flexibility) or `histplot` (an axes-level function for histograms).\n",
      "  warnings.warn(msg, FutureWarning)\n"
     ]
    },
    {
     "data": {
      "text/plain": [
       "<AxesSubplot:ylabel='Density'>"
      ]
     },
     "execution_count": 17,
     "metadata": {},
     "output_type": "execute_result"
    },
    {
     "data": {
      "image/png": "[encoded data removed]",
      "text/plain": [
       "<Figure size 432x288 with 1 Axes>"
      ]
     },
     "metadata": {
      "needs_background": "light"
     },
     "output_type": "display_data"
    }
   ],
   "source": [
    "# seed 선택을 하여 매번 실행 시 동일한 값이 나오도록 설정\n",
    "np.random.seed(seed=1234)\n",
    "\n",
    "# 카이제곱분포 데이터 생성\n",
    "chisq_df10 = np.random.chisquare(df=40, size=1000)\n",
    "\n",
    "sns.distplot(chisq_df10, fit = stats.norm, kde = True)"
   ]
  },
  {
   "cell_type": "markdown",
   "id": "b7c77626",
   "metadata": {},
   "source": [
    "2. 카이제곱분포 그리기 연습\n",
    "    - 랜덤 데이터 생성 : n = 1000, 자유도 = 3\n",
    "    - 랜덤 데이터 생성 : n = 1000, 자유도 = 50"
   ]
  },
  {
   "cell_type": "code",
   "execution_count": 18,
   "id": "baee2a65",
   "metadata": {},
   "outputs": [
    {
     "name": "stderr",
     "output_type": "stream",
     "text": [
      "C:\\Users\\Myung-jin\\anaconda3\\lib\\site-packages\\seaborn\\distributions.py:2557: FutureWarning: `distplot` is a deprecated function and will be removed in a future version. Please adapt your code to use either `displot` (a figure-level function with similar flexibility) or `histplot` (an axes-level function for histograms).\n",
      "  warnings.warn(msg, FutureWarning)\n"
     ]
    },
    {
     "data": {
      "text/plain": [
       "<AxesSubplot:ylabel='Density'>"
      ]
     },
     "execution_count": 18,
     "metadata": {},
     "output_type": "execute_result"
    },
    {
     "data": {
      "image/png": "[encoded data removed]",
      "text/plain": [
       "<Figure size 432x288 with 1 Axes>"
      ]
     },
     "metadata": {
      "needs_background": "light"
     },
     "output_type": "display_data"
    }
   ],
   "source": [
    "chisq_df10 = np.random.chisquare(df=3, size=1000)\n",
    "sns.distplot(chisq_df10, fit = stats.norm, kde = True)"
   ]
  },
  {
   "cell_type": "code",
   "execution_count": 19,
   "id": "ff5677d0",
   "metadata": {
    "scrolled": false
   },
   "outputs": [
    {
     "name": "stderr",
     "output_type": "stream",
     "text": [
      "C:\\Users\\Myung-jin\\anaconda3\\lib\\site-packages\\seaborn\\distributions.py:2557: FutureWarning: `distplot` is a deprecated function and will be removed in a future version. Please adapt your code to use either `displot` (a figure-level function with similar flexibility) or `histplot` (an axes-level function for histograms).\n",
      "  warnings.warn(msg, FutureWarning)\n"
     ]
    },
    {
     "data": {
      "text/plain": [
       "<AxesSubplot:ylabel='Density'>"
      ]
     },
     "execution_count": 19,
     "metadata": {},
     "output_type": "execute_result"
    },
    {
     "data": {
      "image/png": "[encoded data removed]",
      "text/plain": [
       "<Figure size 432x288 with 1 Axes>"
      ]
     },
     "metadata": {
      "needs_background": "light"
     },
     "output_type": "display_data"
    }
   ],
   "source": [
    "chisq_df10 = np.random.chisquare(df=50, size=1000)\n",
    "sns.distplot(chisq_df10, fit = stats.norm, kde = True)"
   ]
  },
  {
   "cell_type": "markdown",
   "id": "43939c51",
   "metadata": {},
   "source": [
    "3. 확률변수 chi2 ~ $chisq$(30)\n",
    "- chi2 = 10일 때, P(X ≤ chi2) = ?"
   ]
  },
  {
   "cell_type": "code",
   "execution_count": 21,
   "id": "ff0e6e9b",
   "metadata": {},
   "outputs": [
    {
     "name": "stdout",
     "output_type": "stream",
     "text": [
      "P(X<=10 : 0.0002)\n"
     ]
    }
   ],
   "source": [
    "chisq = 10\n",
    "df = 30\n",
    "\n",
    "prob = stats.chi2.cdf(chisq, df)\n",
    "print(\"P(X<={0} : {1:.4f})\".format(chisq, prob))"
   ]
  },
  {
   "cell_type": "markdown",
   "id": "d0737c6e",
   "metadata": {},
   "source": [
    "4. 확률변수 chi2 ~ $chisq$(8)\n",
    "- chi2 = 3.0일 때, P(X ≤ chi2) = ?"
   ]
  },
  {
   "cell_type": "code",
   "execution_count": 22,
   "id": "7778e0ea",
   "metadata": {},
   "outputs": [
    {
     "name": "stdout",
     "output_type": "stream",
     "text": [
      "P(X<=3 : 0.0656)\n"
     ]
    }
   ],
   "source": [
    "chisq = 3\n",
    "df = 8\n",
    "\n",
    "prob = stats.chi2.cdf(chisq, df)\n",
    "print(\"P(X<={0} : {1:.4f})\".format(chisq, prob))"
   ]
  },
  {
   "cell_type": "markdown",
   "id": "5219b010",
   "metadata": {},
   "source": [
    "# 4. F분포의 확률계산\n",
    "1. F분포 P(X≤F) 계산 \n",
    "- F(15, 15) 분포를 따르는 F = 2일 때, P(X≤F) = ?"
   ]
  },
  {
   "cell_type": "code",
   "execution_count": 23,
   "id": "2f2d8d00",
   "metadata": {},
   "outputs": [
    {
     "name": "stdout",
     "output_type": "stream",
     "text": [
      "P(X<=F):0.904\n"
     ]
    }
   ],
   "source": [
    "f = 2.0\n",
    "dfnum = 15\n",
    "dfden = 15\n",
    "\n",
    "prob = stats.f.cdf(x=f, dfn=dfnum,dfd = dfden)\n",
    "print(\"P(X<=F):{:.3f}\".format(prob))"
   ]
  },
  {
   "cell_type": "markdown",
   "id": "32d74dd7",
   "metadata": {},
   "source": [
    "- F(10, 100) 분포를 따르는 F = 1.5일 때, P(X≤F) = ?"
   ]
  },
  {
   "cell_type": "code",
   "execution_count": 24,
   "id": "9b572bb8",
   "metadata": {},
   "outputs": [
    {
     "name": "stdout",
     "output_type": "stream",
     "text": [
      "P(X<=F):0.850\n"
     ]
    }
   ],
   "source": [
    "f = 1.5\n",
    "dfnum = 10\n",
    "dfden = 100\n",
    "\n",
    "prob = stats.f.cdf(x=f, dfn=dfnum,dfd = dfden)\n",
    "print(\"P(X<=F):{:.3f}\".format(prob))"
   ]
  },
  {
   "cell_type": "markdown",
   "id": "5326749f",
   "metadata": {},
   "source": [
    "# 5. 와이블 분포의 확률계산"
   ]
  },
  {
   "cell_type": "markdown",
   "id": "dd5eaca2",
   "metadata": {},
   "source": [
    "- 어떤 제품의 수명시간 x가 형상모수 2.2, 척도모수 1200인 와이블 분포\n",
    "- 적어도 1500시간 이상 작동할 확률"
   ]
  },
  {
   "cell_type": "code",
   "execution_count": 25,
   "id": "e0fd06ed",
   "metadata": {},
   "outputs": [
    {
     "name": "stdout",
     "output_type": "stream",
     "text": [
      "P(X<=x): 0.195\n"
     ]
    }
   ],
   "source": [
    "x = 1500\n",
    "alpha = 2.2\n",
    "beta = 1200\n",
    "\n",
    "prob = stats.weibull_min.cdf(x, alpha, scale=beta)\n",
    "print(\"P(X<=x): {:.3f}\".format(1-prob))"
   ]
  },
  {
   "cell_type": "markdown",
   "id": "3c95408a",
   "metadata": {},
   "source": [
    "- 어떤 제품의 수명시간 x가 형상모수 5.2, 척도모수 2200인 와이블 분포\n",
    "- 적어도 2500시간 이상 작동할 확률"
   ]
  },
  {
   "cell_type": "code",
   "execution_count": 26,
   "id": "d65d9849",
   "metadata": {},
   "outputs": [
    {
     "name": "stdout",
     "output_type": "stream",
     "text": [
      "P(X<=x): 0.143\n"
     ]
    }
   ],
   "source": [
    "x = 2500\n",
    "alpha = 5.2\n",
    "beta = 2200\n",
    "\n",
    "prob = stats.weibull_min.cdf(x, alpha, scale=beta)\n",
    "print(\"P(X<=x): {:.3f}\".format(1-prob))"
   ]
  },
  {
   "cell_type": "markdown",
   "id": "8dbd10ce",
   "metadata": {},
   "source": [
    "# 6. 이항분포의 확률계산"
   ]
  },
  {
   "cell_type": "markdown",
   "id": "adb60ac5",
   "metadata": {},
   "source": [
    "- 불량 = 40%\n",
    "- 3대의 차량을 임의로 선택했을 때, 각각 0~3대가 나올 확률은?\n",
    "<br>$P(X=x) = nCxp^x(1-p)^{(n-x)}$, n=3"
   ]
  },
  {
   "cell_type": "code",
   "execution_count": 27,
   "id": "907f76ff",
   "metadata": {},
   "outputs": [
    {
     "name": "stdout",
     "output_type": "stream",
     "text": [
      "P(X=0) = 0.216\n",
      "P(X=1) = 0.432\n",
      "P(X=2) = 0.288\n",
      "P(X=3) = 0.064\n"
     ]
    }
   ],
   "source": [
    "n = 3\n",
    "for i in range(n+1):\n",
    "    prob = stats.binom.pmf(k=i, n=n, p=0.4)\n",
    "    print(\"P(X={0}) = {1:.3f}\".format(i, prob))"
   ]
  },
  {
   "cell_type": "markdown",
   "id": "be77cae8",
   "metadata": {},
   "source": [
    "- 불량 = 30%\n",
    "- 5대의 차량 임의 선택, 불량대수가 0~5대가 나올 확률은?"
   ]
  },
  {
   "cell_type": "code",
   "execution_count": 28,
   "id": "5ba3c365",
   "metadata": {},
   "outputs": [
    {
     "name": "stdout",
     "output_type": "stream",
     "text": [
      "P(X=0) = 0.168\n",
      "P(X=1) = 0.360\n",
      "P(X=2) = 0.309\n",
      "P(X=3) = 0.132\n",
      "P(X=4) = 0.028\n",
      "P(X=5) = 0.002\n"
     ]
    }
   ],
   "source": [
    "n = 5\n",
    "for i in range(n+1):\n",
    "    prob = stats.binom.pmf(k=i, n=n, p=0.3)\n",
    "    print(\"P(X={0}) = {1:.3f}\".format(i, prob))"
   ]
  },
  {
   "cell_type": "markdown",
   "id": "f55bad7b",
   "metadata": {},
   "source": [
    "# 7. 포아송 분포의 확률 계산"
   ]
  },
  {
   "cell_type": "markdown",
   "id": "4e42f322",
   "metadata": {},
   "source": [
    "- 1분당 평균 2회의 전화, 전화 도착 횟수가 포아송분포를 따른다\n",
    "    - 교환대에 1분당 3번의 전화가 걸려올 확률\n",
    "    - 교환대에 1분당 최대 2회 이하의 전화가 걸려올 확률"
   ]
  },
  {
   "cell_type": "code",
   "execution_count": 30,
   "id": "0f81cc33",
   "metadata": {
    "scrolled": true
   },
   "outputs": [
    {
     "name": "stdout",
     "output_type": "stream",
     "text": [
      "1분당 3번의 전화가 걸려올 확률: 0.18\n",
      "1분당 최대 2회 이하의 전화가 걸려올 확률 : 0.68\n"
     ]
    }
   ],
   "source": [
    "mu = 2\n",
    "prob = stats.poisson.pmf(3, mu)\n",
    "\n",
    "cdf_prob = stats.poisson.cdf(2, mu)\n",
    "print(\"1분당 {0}번의 전화가 걸려올 확률: {1:.2f}\".format(3, prob))\n",
    "print(\"1분당 최대 {0}회 이하의 전화가 걸려올 확률 : {1:.2f}\".format(2, cdf_prob))"
   ]
  },
  {
   "cell_type": "markdown",
   "id": "1086f509",
   "metadata": {},
   "source": [
    "# 표본분포"
   ]
  },
  {
   "cell_type": "code",
   "execution_count": 31,
   "id": "e8430629",
   "metadata": {},
   "outputs": [
    {
     "data": {
      "text/html": [
       "<div>\n",
       "<style scoped>\n",
       "    .dataframe tbody tr th:only-of-type {\n",
       "        vertical-align: middle;\n",
       "    }\n",
       "\n",
       "    .dataframe tbody tr th {\n",
       "        vertical-align: top;\n",
       "    }\n",
       "\n",
       "    .dataframe thead th {\n",
       "        text-align: right;\n",
       "    }\n",
       "</style>\n",
       "<table border=\"1\" class=\"dataframe\">\n",
       "  <thead>\n",
       "    <tr style=\"text-align: right;\">\n",
       "      <th></th>\n",
       "      <th>Length</th>\n",
       "      <th>Supp1</th>\n",
       "      <th>Supp2</th>\n",
       "    </tr>\n",
       "  </thead>\n",
       "  <tbody>\n",
       "    <tr>\n",
       "      <th>0</th>\n",
       "      <td>601.4</td>\n",
       "      <td>598.0</td>\n",
       "      <td>601.6</td>\n",
       "    </tr>\n",
       "    <tr>\n",
       "      <th>1</th>\n",
       "      <td>601.6</td>\n",
       "      <td>599.8</td>\n",
       "      <td>600.4</td>\n",
       "    </tr>\n",
       "    <tr>\n",
       "      <th>2</th>\n",
       "      <td>598.0</td>\n",
       "      <td>600.0</td>\n",
       "      <td>598.4</td>\n",
       "    </tr>\n",
       "    <tr>\n",
       "      <th>3</th>\n",
       "      <td>601.4</td>\n",
       "      <td>599.8</td>\n",
       "      <td>600.0</td>\n",
       "    </tr>\n",
       "    <tr>\n",
       "      <th>4</th>\n",
       "      <td>599.4</td>\n",
       "      <td>600.0</td>\n",
       "      <td>596.8</td>\n",
       "    </tr>\n",
       "  </tbody>\n",
       "</table>\n",
       "</div>"
      ],
      "text/plain": [
       "   Length  Supp1  Supp2\n",
       "0   601.4  598.0  601.6\n",
       "1   601.6  599.8  600.4\n",
       "2   598.0  600.0  598.4\n",
       "3   601.4  599.8  600.0\n",
       "4   599.4  600.0  596.8"
      ]
     },
     "execution_count": 31,
     "metadata": {},
     "output_type": "execute_result"
    }
   ],
   "source": [
    "from scipy.stats import shapiro\n",
    "\n",
    "ds_camshaft = pd.read_csv(\"C:/Users/Myung-jin/21aibigdata/210809_dataset/camshaft.csv\")\n",
    "ds_camshaft.head()"
   ]
  },
  {
   "cell_type": "code",
   "execution_count": 32,
   "id": "7d998c67",
   "metadata": {},
   "outputs": [
    {
     "data": {
      "text/plain": [
       "ShapiroResult(statistic=0.9788156747817993, pvalue=0.10744144767522812)"
      ]
     },
     "execution_count": 32,
     "metadata": {},
     "output_type": "execute_result"
    }
   ],
   "source": [
    "data1 = ds_camshaft['Supp1']\n",
    "shapiro(data1)"
   ]
  },
  {
   "cell_type": "code",
   "execution_count": 33,
   "id": "f881c930",
   "metadata": {
    "scrolled": true
   },
   "outputs": [
    {
     "name": "stdout",
     "output_type": "stream",
     "text": [
      "Shapiro-Wilk Test : statistic=0.9788156747817993, p-value=0.10744144767522812\n"
     ]
    }
   ],
   "source": [
    "statistic, p = stats.shapiro(data1)\n",
    "print(\"Shapiro-Wilk Test : statistic={}, p-value={}\".format(statistic, p))"
   ]
  },
  {
   "cell_type": "markdown",
   "id": "6ab96446",
   "metadata": {},
   "source": [
    "- 모평균 추정(모표준편차 아는 경우)"
   ]
  },
  {
   "cell_type": "code",
   "execution_count": 34,
   "id": "6944b90a",
   "metadata": {},
   "outputs": [
    {
     "data": {
      "text/html": [
       "<div>\n",
       "<style scoped>\n",
       "    .dataframe tbody tr th:only-of-type {\n",
       "        vertical-align: middle;\n",
       "    }\n",
       "\n",
       "    .dataframe tbody tr th {\n",
       "        vertical-align: top;\n",
       "    }\n",
       "\n",
       "    .dataframe thead th {\n",
       "        text-align: right;\n",
       "    }\n",
       "</style>\n",
       "<table border=\"1\" class=\"dataframe\">\n",
       "  <thead>\n",
       "    <tr style=\"text-align: right;\">\n",
       "      <th></th>\n",
       "      <th>sample</th>\n",
       "    </tr>\n",
       "  </thead>\n",
       "  <tbody>\n",
       "    <tr>\n",
       "      <th>0</th>\n",
       "      <td>3.6</td>\n",
       "    </tr>\n",
       "    <tr>\n",
       "      <th>1</th>\n",
       "      <td>2.9</td>\n",
       "    </tr>\n",
       "    <tr>\n",
       "      <th>2</th>\n",
       "      <td>2.8</td>\n",
       "    </tr>\n",
       "    <tr>\n",
       "      <th>3</th>\n",
       "      <td>2.6</td>\n",
       "    </tr>\n",
       "    <tr>\n",
       "      <th>4</th>\n",
       "      <td>3.4</td>\n",
       "    </tr>\n",
       "  </tbody>\n",
       "</table>\n",
       "</div>"
      ],
      "text/plain": [
       "   sample\n",
       "0     3.6\n",
       "1     2.9\n",
       "2     2.8\n",
       "3     2.6\n",
       "4     3.4"
      ]
     },
     "execution_count": 34,
     "metadata": {},
     "output_type": "execute_result"
    }
   ],
   "source": [
    "import pandas as pd\n",
    "df = pd.DataFrame({'sample': [3.6,2.9,2.8,2.6,3.4,3.2,2.2,2.6,2.6,2.4,2.4,2.6,3.4,2.4,2.1,2.6,3.0,2.4,2.7,2.4,\n",
    "                              2.6,2.9,2.9,2.0,2.7,2.2,2.8,2.7,1.8,2.5,3.0,3.2,2.8,2.6,3.2,3.1,2.9,2.7,2.7,2.2]})\n",
    "df.head()"
   ]
  },
  {
   "cell_type": "code",
   "execution_count": 35,
   "id": "b4625b35",
   "metadata": {},
   "outputs": [
    {
     "name": "stdout",
     "output_type": "stream",
     "text": [
      "신뢰구간 : ([2.5918], [2.7982])\n"
     ]
    }
   ],
   "source": [
    "lower, upper = stats.norm.interval(0.90, loc = np.mean(df), scale = 0.397/np.sqrt(40))\n",
    "print(\"신뢰구간 : ({0}, {1})\".format(lower.round(4), upper.round(4)))"
   ]
  },
  {
   "cell_type": "markdown",
   "id": "81dde83f",
   "metadata": {},
   "source": [
    "- 모평균 추정(모표준편차 모르는 경우)"
   ]
  },
  {
   "cell_type": "code",
   "execution_count": 36,
   "id": "dd203f16",
   "metadata": {},
   "outputs": [
    {
     "name": "stdout",
     "output_type": "stream",
     "text": [
      "신뢰구간 : ([54.39], [55.33])\n"
     ]
    }
   ],
   "source": [
    "df = pd.DataFrame({'sample': [54.1, 53.3, 56.1, 55.7, 54.0, 54.1, 54.5, 57.1, 55.2, 53.8,\n",
    "                             54.1, 54.1, 56.1, 55.0, 55.9, 56.0, 54.9, 54.3, 53.9, 55.0]})\n",
    "\n",
    "lower, upper = stats.t.interval(0.95, len(df)-1, loc = np.mean(df), scale = stats.sem(df))\n",
    "print(\"신뢰구간 : ({0}, {1})\".format(lower.round(2), upper.round(2)))"
   ]
  },
  {
   "cell_type": "code",
   "execution_count": 37,
   "id": "c8a5aca4",
   "metadata": {},
   "outputs": [
    {
     "data": {
      "text/plain": [
       "sample    54.86\n",
       "dtype: float64"
      ]
     },
     "execution_count": 37,
     "metadata": {},
     "output_type": "execute_result"
    }
   ],
   "source": [
    "np.mean(df)"
   ]
  }
 ],
 "metadata": {
  "kernelspec": {
   "display_name": "Python 3",
   "language": "python",
   "name": "python3"
  },
  "language_info": {
   "codemirror_mode": {
    "name": "ipython",
    "version": 3
   },
   "file_extension": ".py",
   "mimetype": "text/x-python",
   "name": "python",
   "nbconvert_exporter": "python",
   "pygments_lexer": "ipython3",
   "version": "3.8.8"
  }
 },
 "nbformat": 4,
 "nbformat_minor": 5
}
